{
 "cells": [
  {
   "cell_type": "code",
   "execution_count": 1,
   "metadata": {},
   "outputs": [
    {
     "data": {
      "text/plain": [
       "True"
      ]
     },
     "execution_count": 1,
     "metadata": {},
     "output_type": "execute_result"
    }
   ],
   "source": [
    "import torch\n",
    "torch.backends.mps.is_available()"
   ]
  },
  {
   "cell_type": "code",
   "execution_count": 2,
   "metadata": {},
   "outputs": [],
   "source": [
    "device=torch.backends.mps"
   ]
  },
  {
   "cell_type": "code",
   "execution_count": 1,
   "metadata": {},
   "outputs": [
    {
     "name": "stderr",
     "output_type": "stream",
     "text": [
      "/Users/charon/miniconda3/envs/llm/lib/python3.10/site-packages/tqdm/auto.py:21: TqdmWarning: IProgress not found. Please update jupyter and ipywidgets. See https://ipywidgets.readthedocs.io/en/stable/user_install.html\n",
      "  from .autonotebook import tqdm as notebook_tqdm\n",
      "No model was supplied, defaulted to facebook/bart-large-mnli and revision d7645e1 (https://huggingface.co/facebook/bart-large-mnli).\n",
      "Using a pipeline without specifying a model name and revision in production is not recommended.\n",
      "Device set to use mps:0\n"
     ]
    },
    {
     "data": {
      "text/plain": [
       "{'sequence': 'This is a course about the Transformers library',\n",
       " 'labels': ['education', 'business', 'politics'],\n",
       " 'scores': [0.8445961475372314, 0.1119762659072876, 0.04342758283019066]}"
      ]
     },
     "execution_count": 1,
     "metadata": {},
     "output_type": "execute_result"
    }
   ],
   "source": [
    "from transformers import pipeline\n",
    "\n",
    "classifier = pipeline(\"zero-shot-classification\")\n",
    "classifier(\n",
    "    \"This is a course about the Transformers library\",\n",
    "    candidate_labels=[\"education\", \"politics\", \"business\"],\n",
    ")"
   ]
  },
  {
   "cell_type": "code",
   "execution_count": 4,
   "metadata": {},
   "outputs": [
    {
     "name": "stdout",
     "output_type": "stream",
     "text": [
      "{'input_ids': tensor([[  101,  1045,  1005,  2310,  2042,  3403,  2005,  1037, 17662, 12172,\n",
      "          2607,  2026,  2878,  2166,  1012,   102],\n",
      "        [  101,  1045,  5223,  2023,  2061,  2172,   999,   102,     0,     0,\n",
      "             0,     0,     0,     0,     0,     0]]), 'attention_mask': tensor([[1, 1, 1, 1, 1, 1, 1, 1, 1, 1, 1, 1, 1, 1, 1, 1],\n",
      "        [1, 1, 1, 1, 1, 1, 1, 1, 0, 0, 0, 0, 0, 0, 0, 0]])}\n"
     ]
    }
   ],
   "source": [
    "from transformers import AutoTokenizer\n",
    "\n",
    "checkpoint = \"distilbert-base-uncased-finetuned-sst-2-english\"\n",
    "tokenizer = AutoTokenizer.from_pretrained(checkpoint)\n",
    "raw_inputs = [\n",
    "    \"I've been waiting for a HuggingFace course my whole life.\",\n",
    "    \"I hate this so much!\",\n",
    "]\n",
    "inputs = tokenizer(raw_inputs, padding=True, truncation=True, return_tensors=\"pt\")\n",
    "print(inputs)"
   ]
  },
  {
   "cell_type": "code",
   "execution_count": null,
   "metadata": {},
   "outputs": [
    {
     "ename": "ModuleNotFoundError",
     "evalue": "No module named 'xformers'",
     "output_type": "error",
     "traceback": [
      "\u001b[0;31m---------------------------------------------------------------------------\u001b[0m",
      "\u001b[0;31mModuleNotFoundError\u001b[0m                       Traceback (most recent call last)",
      "Cell \u001b[0;32mIn[3], line 3\u001b[0m\n\u001b[1;32m      1\u001b[0m \u001b[38;5;28;01mimport\u001b[39;00m\u001b[38;5;250m \u001b[39m\u001b[38;5;21;01mmlx\u001b[39;00m\u001b[38;5;21;01m.\u001b[39;00m\u001b[38;5;21;01mnn\u001b[39;00m\n\u001b[1;32m      2\u001b[0m \u001b[38;5;28;01mimport\u001b[39;00m\u001b[38;5;250m \u001b[39m\u001b[38;5;21;01mtorch\u001b[39;00m\n\u001b[0;32m----> 3\u001b[0m \u001b[38;5;28;01mimport\u001b[39;00m\u001b[38;5;250m \u001b[39m\u001b[38;5;21;01mxformers\u001b[39;00m  \u001b[38;5;66;03m# 如果没有报错，说明安装成功\u001b[39;00m\n\u001b[1;32m      4\u001b[0m \u001b[38;5;28;01mimport\u001b[39;00m\u001b[38;5;250m \u001b[39m\u001b[38;5;21;01mmlx\u001b[39;00m\n\u001b[1;32m      5\u001b[0m \u001b[38;5;28mprint\u001b[39m(torch\u001b[38;5;241m.\u001b[39mbackends\u001b[38;5;241m.\u001b[39mmps\u001b[38;5;241m.\u001b[39mis_available())  \u001b[38;5;66;03m# 检查 Metal 支持\u001b[39;00m\n",
      "\u001b[0;31mModuleNotFoundError\u001b[0m: No module named 'xformers'"
     ]
    }
   ],
   "source": [
    "import mlx.nn\n",
    "import torch\n",
    "# import xformers  # 如果没有报错，说明安装成功\n",
    "import mlx\n",
    "print(torch.backends.mps.is_available())  # 检查 Metal 支持"
   ]
  },
  {
   "cell_type": "code",
   "execution_count": 1,
   "metadata": {},
   "outputs": [
    {
     "data": {
      "application/vnd.jupyter.widget-view+json": {
       "model_id": "71ef7be3afd64b77ab33d4c0107cbb56",
       "version_major": 2,
       "version_minor": 0
      },
      "text/plain": [
       "Loading checkpoint shards:   0%|          | 0/2 [00:00<?, ?it/s]"
      ]
     },
     "metadata": {},
     "output_type": "display_data"
    }
   ],
   "source": [
    "# pip install accelerate\n",
    "\n",
    "from transformers import AutoProcessor, Gemma3ForConditionalGeneration\n",
    "from PIL import Image\n",
    "import requests\n",
    "import torch\n",
    "# 释放MPS缓存\n",
    "torch.mps.empty_cache()\n",
    "model_id = \"google/gemma-3-4b-it\"\n",
    "\n",
    "model = Gemma3ForConditionalGeneration.from_pretrained(\n",
    "    model_id, device_map=\"auto\", torch_dtype=torch.bfloat16, low_cpu_mem_usage=True\n",
    ").eval()\n"
   ]
  },
  {
   "cell_type": "code",
   "execution_count": 15,
   "metadata": {},
   "outputs": [],
   "source": [
    "\n",
    "processor = AutoProcessor.from_pretrained(model_id)\n",
    "\n",
    "messages = [\n",
    "    {\n",
    "        \"role\": \"system\",\n",
    "        \"content\": [{\"type\": \"text\", \"text\": \"You are a helpful assistant.\"}]\n",
    "    },\n",
    "    {\n",
    "        \"role\": \"user\",\n",
    "        \"content\": [\n",
    "            {\"type\": \"image\", \"image\": \"image.png\"},\n",
    "            {\"type\": \"text\", \"text\": \"Describe this image in detail.\"}\n",
    "        ]\n",
    "    }\n",
    "]\n",
    "\n",
    "inputs = processor.apply_chat_template(\n",
    "    messages, add_generation_prompt=True, tokenize=True,\n",
    "    return_dict=True, return_tensors=\"pt\"\n",
    ").to(model.device, dtype=torch.bfloat16)\n"
   ]
  },
  {
   "cell_type": "code",
   "execution_count": 16,
   "metadata": {},
   "outputs": [
    {
     "name": "stdout",
     "output_type": "stream",
     "text": [
      "input_ids: torch.Size([1, 281]) torch.int64 mps:0\n",
      "attention_mask: torch.Size([1, 281]) torch.int64 mps:0\n",
      "token_type_ids: torch.Size([1, 281]) torch.int64 mps:0\n",
      "pixel_values: torch.Size([1, 3, 896, 896]) torch.bfloat16 mps:0\n"
     ]
    }
   ],
   "source": [
    "for key in inputs:\n",
    "    print(f\"{key}: {inputs[key].shape} {inputs[key].dtype} {inputs[key].device}\")"
   ]
  },
  {
   "cell_type": "code",
   "execution_count": 14,
   "metadata": {},
   "outputs": [
    {
     "name": "stdout",
     "output_type": "stream",
     "text": [
      "tensor([[0, 0, 0, 0, 0, 0, 0, 0, 0, 0, 0, 0, 1, 1, 1, 1, 1, 1, 1, 1, 1, 1, 1, 1,\n",
      "         1, 1, 1, 1, 1, 1, 1, 1, 1, 1, 1, 1, 1, 1, 1, 1, 1, 1, 1, 1, 1, 1, 1, 1,\n",
      "         1, 1, 1, 1, 1, 1, 1, 1, 1, 1, 1, 1, 1, 1, 1, 1, 1, 1, 1, 1, 1, 1, 1, 1,\n",
      "         1, 1, 1, 1, 1, 1, 1, 1, 1, 1, 1, 1, 1, 1, 1, 1, 1, 1, 1, 1, 1, 1, 1, 1,\n",
      "         1, 1, 1, 1, 1, 1, 1, 1, 1, 1, 1, 1, 1, 1, 1, 1, 1, 1, 1, 1, 1, 1, 1, 1,\n",
      "         1, 1, 1, 1, 1, 1, 1, 1, 1, 1, 1, 1, 1, 1, 1, 1, 1, 1, 1, 1, 1, 1, 1, 1,\n",
      "         1, 1, 1, 1, 1, 1, 1, 1, 1, 1, 1, 1, 1, 1, 1, 1, 1, 1, 1, 1, 1, 1, 1, 1,\n",
      "         1, 1, 1, 1, 1, 1, 1, 1, 1, 1, 1, 1, 1, 1, 1, 1, 1, 1, 1, 1, 1, 1, 1, 1,\n",
      "         1, 1, 1, 1, 1, 1, 1, 1, 1, 1, 1, 1, 1, 1, 1, 1, 1, 1, 1, 1, 1, 1, 1, 1,\n",
      "         1, 1, 1, 1, 1, 1, 1, 1, 1, 1, 1, 1, 1, 1, 1, 1, 1, 1, 1, 1, 1, 1, 1, 1,\n",
      "         1, 1, 1, 1, 1, 1, 1, 1, 1, 1, 1, 1, 1, 1, 1, 1, 1, 1, 1, 1, 1, 1, 1, 1,\n",
      "         1, 1, 1, 1, 0, 0, 0, 0, 0, 0, 0, 0, 0, 0, 0, 0, 0]], device='mps:0')\n"
     ]
    }
   ],
   "source": [
    "print(inputs['token_type_ids'])"
   ]
  },
  {
   "cell_type": "code",
   "execution_count": 11,
   "metadata": {},
   "outputs": [
    {
     "name": "stdout",
     "output_type": "stream",
     "text": [
      "mask True count: 256\n"
     ]
    }
   ],
   "source": [
    "mask=inputs[\"input_ids\"][0]==262144  # 计算输入长度\n",
    "count=0\n",
    "for i in range(len(mask)):\n",
    "    if mask[i]:\n",
    "        count += 1\n",
    "print(f\"mask True count: {count}\")  "
   ]
  },
  {
   "cell_type": "code",
   "execution_count": 4,
   "metadata": {},
   "outputs": [
    {
     "name": "stdout",
     "output_type": "stream",
     "text": [
      "\n"
     ]
    },
    {
     "name": "stderr",
     "output_type": "stream",
     "text": [
      "/Users/charon/miniconda3/envs/llm/lib/python3.10/site-packages/transformers/generation/configuration_utils.py:636: UserWarning: `do_sample` is set to `False`. However, `top_p` is set to `0.95` -- this flag is only used in sample-based generation modes. You should set `do_sample=True` or unset `top_p`.\n",
      "  warnings.warn(\n",
      "/Users/charon/miniconda3/envs/llm/lib/python3.10/site-packages/transformers/generation/configuration_utils.py:653: UserWarning: `do_sample` is set to `False`. However, `top_k` is set to `64` -- this flag is only used in sample-based generation modes. You should set `do_sample=True` or unset `top_k`.\n",
      "  warnings.warn(\n"
     ]
    },
    {
     "name": "stdout",
     "output_type": "stream",
     "text": [
      "Okay, let's break down this image in detail. It's a diagram illustrating a system for detecting and classifying different types of image forgeries, specifically focusing on manipulated faces. Here's a detailed description:\n",
      "\n",
      "**Overall Structure:**\n",
      "\n",
      "The image is a flowchart-style diagram that outlines a process for identifying how a face image (`i`) has been altered. It’s divided into several key stages, each with specific components and outputs.\n",
      "\n",
      "**1. Input & Initial Processing:**\n",
      "\n",
      "*   **Real & Fake Images:** The process starts with two input images: `i_r` (Real) and `i_f` (Fake).\n",
      "*   **Landmark Detection:** Both images have landmark points detected (e.g., eyes, nose, mouth, face).\n",
      "*   **Mask Generation (M):** A mask (`M`) is generated, likely highlighting the facial region of interest.\n",
      "*   **Forgery Region Extraction:** The system extracts the forgery region (`R_s` and `R_s(i_f)`) from both images. This is the area where the manipulation is suspected.\n",
      "\n",
      "**2. Forgery Type Decision:**\n",
      "\n",
      "*   **Judge Forgery:** A “Judge Forgery” module analyzes the extracted forgery regions (`R_s` and `R_s(i_f)`).\n",
      "*   **Feature Extraction:** The Judge Forgery module extracts features from the regions.\n",
      "*   **Forgery Type Decision:** Based on these features, the system determines the *type* of forgery. This is represented by a table showing different forgery types (Blur, Color Difference, Texture Abnormal, Blend Boundary, Structure Abnormal) and whether they are detected (marked with a checkmark or cross).\n",
      "\n",
      "**3. Prompt Generation & LLM Interaction:**\n",
      "\n",
      "*   **Raw Annotation (P):** The detected forgery type is recorded as a raw annotation.\n",
      "*   **Prompt Construction:** The system then generates several prompts to feed into a Large Language Model (LLM), specifically GPT-4. These prompts are categorized as:\n",
      "    *   **Visual Prompt:** A descriptive prompt based on the image itself.\n",
      "    *   **Guide Prompt:** A prompt that guides the LLM to analyze the image.\n",
      "    *   **Task Description Prompt:** A prompt that specifies the task (detecting forgery).\n",
      "    *   **Pre-defined Prompt:** A general prompt for the LLM.\n",
      "*   **FFT-based Prompt:** The system uses a Fast Fourier Transform (FFT) based prompt.\n",
      "*   **LLM Output:** The LLM (GPT-4) processes these prompts and generates a textual description of the image, highlighting the manipulated aspects.  The example text provided in the image shows a generated description of a fake face.\n",
      "\n",
      "**Key Components & Relationships:**\n",
      "\n",
      "*   **Arrows:** The arrows indicate the flow of data and processing steps.\n",
      "*   **Boxes:**  Each box represents a module or component within the system.\n",
      "*   **Color Coding:** The color-coded table highlights the different types of forgery detected and their presence (checkmark = detected, cross = not detected).\n",
      "\n",
      "**Overall Purpose:**\n",
      "\n",
      "The system aims to automatically detect and classify different types of image manipulation in faces, leveraging both visual analysis and the capabilities of a large language model to provide a detailed explanation of the detected forgery.\n",
      "\n",
      "---\n",
      "\n",
      "Do you want me to delve deeper into a specific aspect of this diagram, such as:\n",
      "\n",
      "*   The role of the FFT prompt?\n",
      "*   How the Judge Forgery module works?\n",
      "*   The types of forgeries detected?\n"
     ]
    }
   ],
   "source": [
    "print()\n",
    "input_len = inputs[\"input_ids\"].shape[-1]\n",
    "\n",
    "with torch.inference_mode():\n",
    "    generation = model.generate(**inputs, max_new_tokens=1000, do_sample=False)\n",
    "    generation = generation[0][input_len:]\n",
    "\n",
    "decoded = processor.decode(generation, skip_special_tokens=True)\n",
    "print(decoded)\n",
    "\n",
    "# **Overall Impression:** The image is a close-up shot of a vibrant garden scene, \n",
    "# focusing on a cluster of pink cosmos flowers and a busy bumblebee. \n",
    "# It has a slightly soft, natural feel, likely captured in daylight.\n"
   ]
  }
 ],
 "metadata": {
  "kernelspec": {
   "display_name": "llm",
   "language": "python",
   "name": "python3"
  },
  "language_info": {
   "codemirror_mode": {
    "name": "ipython",
    "version": 3
   },
   "file_extension": ".py",
   "mimetype": "text/x-python",
   "name": "python",
   "nbconvert_exporter": "python",
   "pygments_lexer": "ipython3",
   "version": "3.10.16"
  }
 },
 "nbformat": 4,
 "nbformat_minor": 2
}
